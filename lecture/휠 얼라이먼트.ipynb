{
 "cells": [
  {
   "cell_type": "markdown",
   "id": "faf2822b",
   "metadata": {},
   "source": [
    "# 휠 얼라이먼트\n",
    "\n",
    "### 조향 값으로 이동하는 방향에 따라서 오일러 각을 받아 들여서 직진주행을 학습함\n",
    "\n",
    "* ### 조향 모터의 오차 보정 인공지능 예제  \n",
    "\n",
    "* ### 실제 차량의 휠 얼라인먼트를 보정하는 과정(핸들을 중앙에 놓았음에도 차량 진행 방향이 한쪽에 치우치는 현상)과 유사"
   ]
  },
  {
   "cell_type": "code",
   "execution_count": 2,
   "id": "e8140c9e-f3d8-43b7-b2f8-a9d5300e5891",
   "metadata": {},
   "outputs": [],
   "source": [
    "from pop import Pilot\n",
    "import numpy as np\n",
    "import time\n",
    "\n",
    "Car = Pilot.AutoCar()\n",
    "Car.setSensorStatus(euler=1)"
   ]
  },
  {
   "cell_type": "markdown",
   "id": "083cab6e-2f7e-4458-b62f-6ba406e9de21",
   "metadata": {},
   "source": [
    "* ### 여러 각도로 조향하고, 9축 센서의 오일러 각 값 중 yaw 값을 읽어 저장\n",
    "\n",
    "* ### 센서 측정 시간을 고려해 조향 후 0.5초가 지난 시점에 9축 센서 값 읽음  \n",
    "\n",
    "* ### 다음 데이터 수집을 위해 전진한 만큼 후진하여 제자리로 복귀  \n",
    "\n",
    "* ### 이 과정을 여러번 반복해 데이터셋을 많이 수집할수록 정확한 오차 보정 가능"
   ]
  },
  {
   "cell_type": "code",
   "execution_count": 2,
   "id": "1fa2601a-d4da-43db-b011-7477a32f0cbf",
   "metadata": {},
   "outputs": [
    {
     "name": "stdout",
     "output_type": "stream",
     "text": [
      "{'euler': 251.125, 'steer': -0.9}\n",
      "{'euler': 250.75, 'steer': -0.6}\n",
      "{'euler': 258.562, 'steer': -0.3}\n",
      "{'euler': 259.875, 'steer': -0.0}\n",
      "{'euler': 259.75, 'steer': 0.3}\n",
      "{'euler': 260.562, 'steer': 0.6}\n",
      "{'euler': 263.75, 'steer': 0.9}\n"
     ]
    }
   ],
   "source": [
    "dataset={ 'euler' : [], 'steer' : [] }\n",
    "\n",
    "for n in np.arange(-0.9, 1.1, 0.3):\n",
    "    n = round(n,1)\n",
    "    \n",
    "    Car.steering = n\n",
    "    Car.forward(30)\n",
    "\n",
    "    time.sleep(1)\n",
    "\n",
    "    m = Car.getEuler('yaw')\n",
    "\n",
    "    time.sleep(1)\n",
    "\n",
    "    Car.backward(30)\n",
    "\n",
    "    time.sleep(2)\n",
    "\n",
    "    Car.stop()\n",
    "\n",
    "    dataset['euler'].append(m)\n",
    "    dataset['steer'].append(n)\n",
    "\n",
    "    print({ 'euler' : m , 'steer' : n })"
   ]
  },
  {
   "cell_type": "markdown",
   "id": "58ab2d19-a73c-4c74-8a34-eaad927428fa",
   "metadata": {},
   "source": [
    "* ### 오일러 각은 0~360 사이의 값으로 반환\n",
    "    * #### 360도 혹은 0도 전후로 측정될 때가 있음\n",
    "        * ##### 예를 들어, 조향 값이 -0.9일 때 350, 조향 값이 0.9일 때 10인 경우\n",
    "* ### 원활한 모델 생성을 위해 값 수정"
   ]
  },
  {
   "cell_type": "code",
   "execution_count": 3,
   "id": "5389556a",
   "metadata": {},
   "outputs": [],
   "source": [
    "import numpy as np\n",
    "\n",
    "max_value = np.array(dataset['euler']).max()\n",
    "min_value = np.array(dataset['euler']).min()\n",
    "if max_value - min_value > 300:\n",
    "    for num, eu in enumerate(dataset['euler']):\n",
    "        if eu > 180:\n",
    "            dataset['euler'][num] = round(eu-360, 3)"
   ]
  },
  {
   "cell_type": "markdown",
   "id": "7c9172de-46a3-4bce-92b0-93a1b4a18b65",
   "metadata": {},
   "source": [
    "* ### 선형 회귀를 위해 pop.AI 라이브러리 import   \n",
    "* ### Linear_Regression 객체 생성    \n",
    "    * #### X_data와 Y_data에 각각 euler와 steer를 지정   \n",
    "* ### train() 메소드의 파라미터에 times를 5000으로 설정. 데이터 학습   \n",
    "    * #### 충분한 학습을 위해 times 설정 "
   ]
  },
  {
   "cell_type": "code",
   "execution_count": 4,
   "id": "56e85401",
   "metadata": {},
   "outputs": [
    {
     "ename": "NameError",
     "evalue": "name 'dataset' is not defined",
     "output_type": "error",
     "traceback": [
      "\u001b[0;31m---------------------------------------------------------------------------\u001b[0m",
      "\u001b[0;31mNameError\u001b[0m                                 Traceback (most recent call last)",
      "\u001b[0;32m<ipython-input-4-f71ed501d595>\u001b[0m in \u001b[0;36m<module>\u001b[0;34m\u001b[0m\n\u001b[1;32m      2\u001b[0m \u001b[0;34m\u001b[0m\u001b[0m\n\u001b[1;32m      3\u001b[0m \u001b[0mLR\u001b[0m\u001b[0;34m=\u001b[0m\u001b[0mAI\u001b[0m\u001b[0;34m.\u001b[0m\u001b[0mLinear_Regression\u001b[0m\u001b[0;34m(\u001b[0m\u001b[0;34m)\u001b[0m\u001b[0;34m\u001b[0m\u001b[0;34m\u001b[0m\u001b[0m\n\u001b[0;32m----> 4\u001b[0;31m \u001b[0mLR\u001b[0m\u001b[0;34m.\u001b[0m\u001b[0mX_data\u001b[0m\u001b[0;34m=\u001b[0m\u001b[0mdataset\u001b[0m\u001b[0;34m[\u001b[0m\u001b[0;34m'euler'\u001b[0m\u001b[0;34m]\u001b[0m\u001b[0;34m\u001b[0m\u001b[0;34m\u001b[0m\u001b[0m\n\u001b[0m\u001b[1;32m      5\u001b[0m \u001b[0mLR\u001b[0m\u001b[0;34m.\u001b[0m\u001b[0mY_data\u001b[0m\u001b[0;34m=\u001b[0m\u001b[0mdataset\u001b[0m\u001b[0;34m[\u001b[0m\u001b[0;34m'steer'\u001b[0m\u001b[0;34m]\u001b[0m\u001b[0;34m\u001b[0m\u001b[0;34m\u001b[0m\u001b[0m\n\u001b[1;32m      6\u001b[0m \u001b[0;34m\u001b[0m\u001b[0m\n",
      "\u001b[0;31mNameError\u001b[0m: name 'dataset' is not defined"
     ]
    }
   ],
   "source": [
    "from pop import AI\n",
    "\n",
    "LR=AI.Linear_Regression()\n",
    "LR.X_data=dataset['euler']\n",
    "LR.Y_data=dataset['steer']\n",
    "\n",
    "LR.train(times=5000, print_every=100)"
   ]
  },
  {
   "cell_type": "markdown",
   "id": "1b89c547-9aec-456b-a5cf-16ea7be13202",
   "metadata": {},
   "source": [
    "* ### 학습된 모델의 run() 메소드에 43을 입력하여 실행\n",
    "    * #### 오일러 각의 yaw 값이 43에 가까울 때의 조향 값이 정중앙\n",
    "        * ##### 해당 값은 데이터 수집 당시 차량의 방향에 따라 달라질 수 있음"
   ]
  },
  {
   "cell_type": "code",
   "execution_count": 12,
   "id": "fb502805",
   "metadata": {},
   "outputs": [
    {
     "name": "stdout",
     "output_type": "stream",
     "text": [
      "[[0.00059758]]\n"
     ]
    }
   ],
   "source": [
    "value = LR.run([43])\n",
    "print(value)"
   ]
  },
  {
   "cell_type": "markdown",
   "id": "2ba8c9aa-a6ea-47ec-8153-20348aa7b981",
   "metadata": {},
   "source": [
    "* ### 정중앙으로 주행하기 위한 조향 제어값을 알 수 있고, 이 값을 입력하여 조향 보정 "
   ]
  },
  {
   "cell_type": "code",
   "execution_count": 7,
   "id": "4d07f2dc",
   "metadata": {},
   "outputs": [],
   "source": [
    "Car.steering = value[0][0]"
   ]
  },
  {
   "cell_type": "code",
   "execution_count": 8,
   "id": "26a0e314",
   "metadata": {},
   "outputs": [],
   "source": [
    "Car.forward(40)\n",
    "time.sleep(2)\n",
    "Car.stop()"
   ]
  },
  {
   "cell_type": "markdown",
   "id": "67ac6d56-303b-4eb8-9ad4-e19591af7415",
   "metadata": {},
   "source": [
    "* ### 차량이 비교적 정확하게 직진하는 것을 확인 가능   \n",
    "* ### 단, 베어링으로 인한 오차가 발생하여 완벽한 보정은 불가능  \n",
    "* ### 모델은 학습시 자동저장, 아래는 모델을 불러와서 사용하는 법"
   ]
  },
  {
   "cell_type": "code",
   "execution_count": 5,
   "id": "0ffb1d93-ba35-423b-bf2c-6a2944629923",
   "metadata": {},
   "outputs": [
    {
     "name": "stdout",
     "output_type": "stream",
     "text": [
      "[[0.00059758]]\n"
     ]
    }
   ],
   "source": [
    "LR.load(path=\"linear_regression_models\")\n",
    "value = LR.run([43])\n",
    "print(value)"
   ]
  },
  {
   "cell_type": "code",
   "execution_count": null,
   "id": "fbfa7873-625a-464b-b6fb-62692928ffe8",
   "metadata": {},
   "outputs": [],
   "source": []
  }
 ],
 "metadata": {
  "kernelspec": {
   "display_name": "Python 3",
   "language": "python",
   "name": "python3"
  },
  "language_info": {
   "codemirror_mode": {
    "name": "ipython",
    "version": 3
   },
   "file_extension": ".py",
   "mimetype": "text/x-python",
   "name": "python",
   "nbconvert_exporter": "python",
   "pygments_lexer": "ipython3",
   "version": "3.6.9"
  }
 },
 "nbformat": 4,
 "nbformat_minor": 5
}
