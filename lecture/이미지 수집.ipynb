{
 "cells": [
  {
   "cell_type": "code",
   "execution_count": 1,
   "id": "cca6552b-72ed-43af-b094-5bdd51aff4e4",
   "metadata": {},
   "outputs": [
    {
     "data": {
      "application/vnd.jupyter.widget-view+json": {
       "model_id": "6213847f71684e509d3786defd597cc5",
       "version_major": 2,
       "version_minor": 0
      },
      "text/plain": [
       "Image(value=b'\\xff\\xd8\\xff\\xe0\\x00\\x10JFIF\\x00\\x01\\x01\\x00\\x00\\x01\\x00\\x01\\x00\\x00\\xff\\xdb\\x00C\\x00\\x02\\x01\\x0…"
      ]
     },
     "metadata": {},
     "output_type": "display_data"
    }
   ],
   "source": [
    "# Data_Collector를 사용하기 위해\n",
    "# AI.Track_Follow를 사용하여 이미지 수집 준비\n",
    "from pop import AI, Camera, Pilot\n",
    "\n",
    "cam=Camera(width=300, height=300)\n",
    "cam.show()\n",
    "dataCollector=Pilot.Data_Collector(AI.Track_Follow, camera=cam)"
   ]
  },
  {
   "cell_type": "code",
   "execution_count": 2,
   "id": "8e716314-305b-4fb0-979e-6f8fc1d9cf01",
   "metadata": {
    "tags": []
   },
   "outputs": [
    {
     "data": {
      "application/vnd.jupyter.widget-view+json": {
       "model_id": "47d0b9d4dcde4adb992145692b309253",
       "version_major": 2,
       "version_minor": 0
      },
      "text/plain": [
       "HBox(children=(Image(value=b'\\xff\\xd8\\xff\\xe0\\x00\\x10JFIF\\x00\\x01\\x01\\x00\\x00\\x01\\x00\\x01\\x00\\x00\\xff\\xdb\\x00C…"
      ]
     },
     "metadata": {},
     "output_type": "display_data"
    },
    {
     "data": {
      "application/vnd.jupyter.widget-view+json": {
       "model_id": "e1fb6e4be98549f9a67538afeba33201",
       "version_major": 2,
       "version_minor": 0
      },
      "text/plain": [
       "ToggleButton(value=False, button_style='danger', description='Auto Collect', tooltip='Automatically collects d…"
      ]
     },
     "metadata": {},
     "output_type": "display_data"
    },
    {
     "data": {
      "text/html": [
       "<style>.joystick_focused{ cursor:grabbing !important;}    .joystick_background{user-select: none;        background: #fff3f3;        border: 1px solid #ffa29e;        border-radius: 50%;        height: 12em;        width: 12em;    margin:2.5em;}    .joystick_stick{cursor:grab; user-select: none;        background: #F74138;        border-radius: 50%;        box-shadow: 0.375em 0.375em 0 0 rgba(15, 28, 63, 0.125);        height: 5em;        width: 5em;        transform: translate(50%,50%);    }</style><div><div id=\"joystick_background_47E3415ED0A00C\" class=\"joystick_background\">    <div id=\"joystick_stick_47E3415ED0A00C\" class=\"joystick_stick\" style=\"position:absolute\" onmousedown=\"start_joystick_47E3415ED0A00C(this); joystick_focus_47E3415ED0A00C(this);\" ondrag=\"joystick_47E3415ED0A00C(e);\" onmouseup=\"reset_joystick_47E3415ED0A00C(this); joystick_disfocus_47E3415ED0A00C(this);\" ontouchstart=\"onTouchStart(event);\" ontouchmove=\"onTouchMove(event);\" ontouchend=\"onTouchEnd(event);\"></div></div></div><script> X=0; Y=0; function joystick_focus_47E3415ED0A00C(e){ e.classList.add(\"joystick_focused\");} function joystick_disfocus_47E3415ED0A00C(e){ e.classList.remove(\"joystick_focused\");}    var port_47E3415ED0A00C=8887;    var sock_47E3415ED0A00C=new WebSocket(\"ws://\"+window.location.hostname+\":\"+port_47E3415ED0A00C);    var sw_47E3415ED0A00C=false;    var preX_47E3415ED0A00C, preY_47E3415ED0A00C, X_47E3415ED0A00C, Y_47E3415ED0A00C, nX_47E3415ED0A00C, nY_47E3415ED0A00C;    var back_47E3415ED0A00C=document.getElementById(\"joystick_background_47E3415ED0A00C\");    var stick_47E3415ED0A00C=document.getElementById(\"joystick_stick_47E3415ED0A00C\");    var back_width_47E3415ED0A00C=back_47E3415ED0A00C.offsetWidth;    var back_height_47E3415ED0A00C=back_47E3415ED0A00C.offsetHeight;    var stick_width_47E3415ED0A00C=stick_47E3415ED0A00C.offsetWidth;    var stick_height_47E3415ED0A00C=stick_47E3415ED0A00C.offsetHeight;  intlog_47E3415ED0A00C=Date.now(); var pressed = 0; var fpressed = 0; setInterval(()=>{try{if (parseFloat(sX_47E3415ED0A00C)==0 && parseFloat(sY_47E3415ED0A00C)==0) {if (Date.now()-intlog_47E3415ED0A00C<500) sock_47E3415ED0A00C.send(\"j,\" + sX_47E3415ED0A00C + \",\" + sY_47E3415ED0A00C);}else{ sock_47E3415ED0A00C.send(\"j,\" + sX_47E3415ED0A00C + \",\" + sY_47E3415ED0A00C); intlog_47E3415ED0A00C=Date.now();}}catch{console.log(\"Waiting to connect...\");}},50); function move_47E3415ED0A00C(evt){ X=evt.clientX; Y=evt.clientY; if(sw_47E3415ED0A00C){            nX_47E3415ED0A00C+=X-preX_47E3415ED0A00C;            nY_47E3415ED0A00C+=Y-preY_47E3415ED0A00C;            preX_47E3415ED0A00C=X;            preY_47E3415ED0A00C=Y;            if (nX_47E3415ED0A00C>back_width_47E3415ED0A00C-stick_width_47E3415ED0A00C/2) nX_47E3415ED0A00C=back_width_47E3415ED0A00C-stick_width_47E3415ED0A00C/2;            else if (nX_47E3415ED0A00C<-stick_width_47E3415ED0A00C/2) nX_47E3415ED0A00C=-stick_width_47E3415ED0A00C/2;            if (nY_47E3415ED0A00C>back_height_47E3415ED0A00C-stick_height_47E3415ED0A00C/2) nY_47E3415ED0A00C=back_height_47E3415ED0A00C-stick_height_47E3415ED0A00C/2;            else if (nY_47E3415ED0A00C<-stick_height_47E3415ED0A00C/2) nY_47E3415ED0A00C=-stick_height_47E3415ED0A00C/2;            sX_47E3415ED0A00C=(nX_47E3415ED0A00C+stick_width_47E3415ED0A00C/2-back_width_47E3415ED0A00C/2)/(back_width_47E3415ED0A00C/2);            sY_47E3415ED0A00C=-(nY_47E3415ED0A00C+stick_height_47E3415ED0A00C/2-back_height_47E3415ED0A00C/2)/(back_height_47E3415ED0A00C/2);                        /*sock_47E3415ED0A00C.send(\"j,\"+sX_47E3415ED0A00C+\",\"+sY_47E3415ED0A00C);*/            stick_47E3415ED0A00C.style.transform=\"translate(\"+nX_47E3415ED0A00C+\"px,\"+nY_47E3415ED0A00C+\"px)\";        }    };    function up_47E3415ED0A00C(){joystick_disfocus_47E3415ED0A00C(stick_47E3415ED0A00C);        if(sw_47E3415ED0A00C){            sw_47E3415ED0A00C=false;            reset_joystick_47E3415ED0A00C(stick_47E3415ED0A00C);        }    };    function start_joystick_47E3415ED0A00C(e){window.onmousemove=move_47E3415ED0A00C; window.onmouseup=up_47E3415ED0A00C;        preX_47E3415ED0A00C=X;        preY_47E3415ED0A00C=Y;        sw_47E3415ED0A00C=true;    }    function joystick_47E3415ED0A00C(e){        nX_47E3415ED0A00C+=X-preX_47E3415ED0A00C;        nY_47E3415ED0A00C+=Y-preY_47E3415ED0A00C;        preX_47E3415ED0A00C=X;        preY_47E3415ED0A00C=Y;        if (nX_47E3415ED0A00C>back_width_47E3415ED0A00C-stick_width_47E3415ED0A00C/2) nX_47E3415ED0A00C=back_width_47E3415ED0A00C-stick_width_47E3415ED0A00C/2;        else if (nX_47E3415ED0A00C<-stick_width_47E3415ED0A00C/2) nX_47E3415ED0A00C=-stick_width_47E3415ED0A00C/2;        if (nY_47E3415ED0A00C>back_height_47E3415ED0A00C-stick_height_47E3415ED0A00C/2) nY_47E3415ED0A00C=back_height_47E3415ED0A00C-stick_height_47E3415ED0A00C/2;        else if (nY_47E3415ED0A00C<-stick_height_47E3415ED0A00C/2) nY_47E3415ED0A00C=-stick_height_47E3415ED0A00C/2;                e.style.transform=\"translate(\"+nX_47E3415ED0A00C+\"px,\"+nY_47E3415ED0A00C+\"px)\";    }    function reset_joystick_47E3415ED0A00C(e){        sw_47E3415ED0A00C=false;        nX_47E3415ED0A00C = back_width_47E3415ED0A00C/2 - stick_width_47E3415ED0A00C/2;        nY_47E3415ED0A00C = back_height_47E3415ED0A00C/2 - stick_height_47E3415ED0A00C/2;        e.style.transform=\"translate(\"+nX_47E3415ED0A00C+\"px,\"+nY_47E3415ED0A00C+\"px)\"; sX_47E3415ED0A00C=\"0\"; sY_47E3415ED0A00C=\"0\"; sock_47E3415ED0A00C.send(\"j,0,0\");    } function onTouchStart(event){pressed = 1; preX_47E3415ED0A00C = X; preY_47E3415ED0A00C = Y; sw_47E3415ED0A00C = true; } function onTouchMove(event){event.preventDefault(); if (pressed === 1){X = event.targetTouches[0].pageX; Y = event.targetTouches[0].pageY; if (sw_47E3415ED0A00C){nX_47E3415ED0A00C += X - preX_47E3415ED0A00C; nY_47E3415ED0A00C += Y - preY_47E3415ED0A00C; preX_47E3415ED0A00C = X; preY_47E3415ED0A00C = Y; if (fpressed === 0){fpressed = 1, nX_47E3415ED0A00C = 50; nY_47E3415ED0A00C = 50;} else if(fpressed === 1){ if (nX_47E3415ED0A00C > back_width_47E3415ED0A00C - stick_width_47E3415ED0A00C / 2) nX_47E3415ED0A00C = back_width_47E3415ED0A00C - stick_width_47E3415ED0A00C / 2; else if (nX_47E3415ED0A00C < -stick_width_47E3415ED0A00C / 2) nX_47E3415ED0A00C = -stick_width_47E3415ED0A00C / 2; if (nY_47E3415ED0A00C > back_height_47E3415ED0A00C - stick_height_47E3415ED0A00C / 2) nY_47E3415ED0A00C = back_height_47E3415ED0A00C - stick_height_47E3415ED0A00C / 2; else if (nY_47E3415ED0A00C < -stick_height_47E3415ED0A00C / 2) nY_47E3415ED0A00C = -stick_height_47E3415ED0A00C / 2;} sX_47E3415ED0A00C = (nX_47E3415ED0A00C + stick_width_47E3415ED0A00C / 2 - back_width_47E3415ED0A00C / 2) /(back_width_47E3415ED0A00C/2); sY_47E3415ED0A00C = -(nY_47E3415ED0A00C + stick_height_47E3415ED0A00C / 2 - back_height_47E3415ED0A00C / 2) /(back_height_47E3415ED0A00C/2); stick_47E3415ED0A00C.style.transform = \"translate(\" + nX_47E3415ED0A00C + \"px,\" + nY_47E3415ED0A00C + \"px)\"; }}} function onTouchEnd(event){ if (pressed ===1) {pressed = 0; fpressed = 0; joystick_disfocus_47E3415ED0A00C(stick_47E3415ED0A00C); if (sw_47E3415ED0A00C){ sw_47E3415ED0A00C = false; reset_joystick_47E3415ED0A00C(stick_47E3415ED0A00C); }}} reset_joystick_47E3415ED0A00C(stick_47E3415ED0A00C); console.log(\"Loaded.\");</script>"
      ],
      "text/plain": [
       "<IPython.core.display.HTML object>"
      ]
     },
     "metadata": {},
     "output_type": "display_data"
    },
    {
     "data": {
      "text/html": [
       "<script>var list=document.getElementsByClassName(\"clickable_image_box\");for (var i=0; i<list.length; i++) {    list[i].onclick=function(e){\t\tvar x=e.offsetX/150-1;\t\tvar y=e.offsetY/150-1;\t\tsock_47E3415ED0A00C.send(\"c,\"+x+\",\"+y);\t};}</script>"
      ],
      "text/plain": [
       "<IPython.core.display.HTML object>"
      ]
     },
     "metadata": {},
     "output_type": "display_data"
    }
   ],
   "source": [
    "# AutoCollector\n",
    "# Auto Collect를 누르고 차량을 움직일 때 프레임의 변화에 따라 자동 저장\n",
    "dataCollector.show()"
   ]
  },
  {
   "cell_type": "code",
   "execution_count": 3,
   "id": "4c07df96-0c6e-4682-b743-7de71c570807",
   "metadata": {},
   "outputs": [],
   "source": [
    "# 현재 카메라가 보는 이미지 캡처 (수동)\n",
    "dataCollector.save_snapshot(directory=\"image\")"
   ]
  },
  {
   "cell_type": "code",
   "execution_count": null,
   "id": "87edbad5-4dcd-401e-92a0-15a70e87eb38",
   "metadata": {},
   "outputs": [],
   "source": []
  },
  {
   "cell_type": "code",
   "execution_count": null,
   "id": "c01cdc40-3ad7-4b33-8e56-fae320e3ced2",
   "metadata": {},
   "outputs": [],
   "source": []
  }
 ],
 "metadata": {
  "kernelspec": {
   "display_name": "Python 3",
   "language": "python",
   "name": "python3"
  },
  "language_info": {
   "codemirror_mode": {
    "name": "ipython",
    "version": 3
   },
   "file_extension": ".py",
   "mimetype": "text/x-python",
   "name": "python",
   "nbconvert_exporter": "python",
   "pygments_lexer": "ipython3",
   "version": "3.6.9"
  }
 },
 "nbformat": 4,
 "nbformat_minor": 5
}
