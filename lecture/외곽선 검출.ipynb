{
 "cells": [
  {
   "cell_type": "markdown",
   "id": "8a6f931d-6c18-477b-838d-f0cdeac41170",
   "metadata": {},
   "source": [
    "\n",
    "# 외곽선 검출\n",
    "* ### 외곽선 \n",
    "    * #### 밝기가 낮은 값에서 높은 값으로 변하거나 이와 반대로 변하는 지점 \n",
    "    * #### 영상 안에 있는 객체들의 경계 \n",
    "    * #### 모양, 방향성 등 탐지 가능 \n",
    "\n",
    "* ### OpenCV에 포함된 여러가지 외곽선 검출 알고리즘 중 캐니 엣지 검출 알고리즘 사용 \n",
    "    * #### 잡음에 민감하지 않으며 명확한 외곽선을 검출하는 데 목적을 두고 있는 알고리즘 \n",
    "    * #### Canny(image, threshold1, threshold2) : 이미지 외곽선 검출 및 반환   \n",
    "        * ##### image : 입력 이미지  \n",
    "        * ##### threshold1, threshold2 : 외곽선 검출을 위한 임계치  \n",
    "            * ##### threshold1 : 최소값  \n",
    "            * ##### threshold2 : 최대값  \n",
    "\n",
    "* ### 외곽선 검출 \n",
    "    * #### 필요한 모듈을 불러오고 imshow() 메소드 활성화 "
   ]
  },
  {
   "cell_type": "code",
   "execution_count": 1,
   "id": "cff9ed56-fcb9-4e8b-aac3-9a78df74f664",
   "metadata": {},
   "outputs": [],
   "source": [
    "import cv2\n",
    "from pop import Util\n",
    "\n",
    "Util.enable_imshow()"
   ]
  },
  {
   "cell_type": "markdown",
   "id": "cfa792d3-090c-49d2-903b-12716a1d95bb",
   "metadata": {},
   "source": [
    "* ### Util의 gstrmer() 메소드로 카메라 해상도 지정 \n",
    "* ### VideoCapture 객체 생성 "
   ]
  },
  {
   "cell_type": "code",
   "execution_count": 2,
   "id": "4553cbf2-a3e4-4299-b216-148af7fc4970",
   "metadata": {},
   "outputs": [],
   "source": [
    "cam = Util.gstrmer(width=640, height=480)\n",
    "camera = cv2.VideoCapture(cam, cv2.CAP_GSTREAMER)\n",
    "if not camera.isOpened():\n",
    "    print(\"Not found camera\")"
   ]
  },
  {
   "cell_type": "markdown",
   "id": "972f9cf8-df34-4a3f-a83a-3daf1ac451d9",
   "metadata": {},
   "source": [
    "* ### read() 메소드로 for문을 이용해 총 120개의 프레임 출력 \n",
    "    * #### read() 메소드는 한 프레임 씩 반환 \n",
    "* ### Canny() 메소드를 통해 프레임에서 외곽선을 검출 \n",
    "    * #### Canny() 메소드에서는 8-bit로 변환 후 임계치 범위를 벗어나는 값 제거 \n",
    "* ### 변환된 이미지 출력 "
   ]
  },
  {
   "cell_type": "code",
   "execution_count": 3,
   "id": "166019da-00fe-4b6f-b53e-83f7ad6f19fd",
   "metadata": {},
   "outputs": [
    {
     "data": {
      "application/vnd.jupyter.widget-view+json": {
       "model_id": "332fea4b95fa422994cd7c36bbe550c0",
       "version_major": 2,
       "version_minor": 0
      },
      "text/plain": [
       "Image(value=b'\\xff\\xd8\\xff\\xe0\\x00\\x10JFIF\\x00\\x01\\x01\\x00\\x00\\x01\\x00\\x01\\x00\\x00\\xff\\xdb\\x00C\\x00\\x02\\x01\\x0…"
      ]
     },
     "metadata": {},
     "output_type": "display_data"
    }
   ],
   "source": [
    "for _ in range(120):\n",
    "    ret, frame = camera.read()        # 한 프레임씩 반환\n",
    "    img = cv2.Canny(frame, 100, 200)   # 외곽선 검출\n",
    "    \n",
    "    cv2.imshow(\"soda\", img)           # 이미지 출력"
   ]
  },
  {
   "cell_type": "code",
   "execution_count": 4,
   "id": "60ed8243-7898-41e0-9179-83ffbd1c7c23",
   "metadata": {},
   "outputs": [],
   "source": [
    "camera.release()\n",
    "cv2.destroyAllWindows()"
   ]
  },
  {
   "cell_type": "code",
   "execution_count": null,
   "id": "f702eced-dab1-498d-bf4a-b58707b67af4",
   "metadata": {},
   "outputs": [],
   "source": []
  }
 ],
 "metadata": {
  "kernelspec": {
   "display_name": "Python 3",
   "language": "python",
   "name": "python3"
  },
  "language_info": {
   "codemirror_mode": {
    "name": "ipython",
    "version": 3
   },
   "file_extension": ".py",
   "mimetype": "text/x-python",
   "name": "python",
   "nbconvert_exporter": "python",
   "pygments_lexer": "ipython3",
   "version": "3.6.9"
  }
 },
 "nbformat": 4,
 "nbformat_minor": 5
}
